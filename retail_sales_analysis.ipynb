{
 "cells": [
  {
   "cell_type": "markdown",
   "id": "51b91ae8",
   "metadata": {},
   "source": [
    "# 🛍️ Retail Sales Analysis\n",
    "\n",
    "This project explores a real-world sales dataset from a retail store, using Python for data analysis and visualization. The goal is to uncover insights about customer behavior, product performance and transaction trends.\n",
    "\n",
    "## 📦 Dataset Features\n",
    "- Invoice ID, Branch, City, Customer Type, Gender\n",
    "- Product line, Unit Price, Quantity, Tax, Total\n",
    "- Date, Time, Payment Method\n",
    "- Cost of Goods Sold (COGS), Gross Margin, Gross Income\n",
    "- Rating\n"
   ]
  },
  {
   "cell_type": "code",
   "execution_count": null,
   "id": "a6953be9",
   "metadata": {},
   "outputs": [],
   "source": [
    "import pandas as pd\n",
    "import matplotlib.pyplot as plt\n",
    "import seaborn as sns\n",
    "\n",
    "# Load dataset\n",
    "df = pd.read_csv(\"Dataset.csv\")\n",
    "\n",
    "# Display first 5 rows\n",
    "df.head()"
   ]
  },
  {
   "cell_type": "code",
   "execution_count": null,
   "id": "cf4cf5e9",
   "metadata": {},
   "outputs": [],
   "source": [
    "df.info()"
   ]
  },
  {
   "cell_type": "code",
   "execution_count": null,
   "id": "a5c07f8e",
   "metadata": {},
   "outputs": [],
   "source": [
    "df.isnull().sum()"
   ]
  },
  {
   "cell_type": "code",
   "execution_count": null,
   "id": "a37f68c8",
   "metadata": {},
   "outputs": [],
   "source": [
    "df.describe()"
   ]
  },
  {
   "cell_type": "code",
   "execution_count": null,
   "id": "2df23b9a",
   "metadata": {},
   "outputs": [],
   "source": [
    "df['Gender'].value_counts()"
   ]
  },
  {
   "cell_type": "code",
   "execution_count": null,
   "id": "dca7bb29",
   "metadata": {},
   "outputs": [],
   "source": [
    "df['Customer type'].value_counts()"
   ]
  },
  {
   "cell_type": "code",
   "execution_count": null,
   "id": "50ee6b86",
   "metadata": {},
   "outputs": [],
   "source": [
    "df['Payment'].value_counts()"
   ]
  },
  {
   "cell_type": "code",
   "execution_count": null,
   "id": "a2a04567",
   "metadata": {},
   "outputs": [],
   "source": [
    "sns.set(style=\"whitegrid\")\n",
    "sns.countplot(data=df, x='Gender', palette='Set2')\n",
    "plt.title('Gender Distribution')\n",
    "plt.show()"
   ]
  },
  {
   "cell_type": "code",
   "execution_count": null,
   "id": "c6bd4045",
   "metadata": {},
   "outputs": [],
   "source": [
    "sns.countplot(data=df, x='Payment', palette='Set1')\n",
    "plt.title('Payment Method Distribution')\n",
    "plt.show()"
   ]
  },
  {
   "cell_type": "code",
   "execution_count": null,
   "id": "9d2408d0",
   "metadata": {},
   "outputs": [],
   "source": [
    "plt.figure(figsize=(10,6))\n",
    "sns.barplot(data=df, x='Product line', y='Rating', palette='coolwarm')\n",
    "plt.title('Average Rating by Product Line')\n",
    "plt.xticks(rotation=45)\n",
    "plt.show()"
   ]
  },
  {
   "cell_type": "code",
   "execution_count": null,
   "id": "873c2cd3",
   "metadata": {},
   "outputs": [],
   "source": [
    "df['Date'] = pd.to_datetime(df['Date'])\n",
    "df['Time'] = pd.to_datetime(df['Time']).dt.time\n",
    "df['Day'] = df['Date'].dt.day_name()\n",
    "df['Month'] = df['Date'].dt.month_name()"
   ]
  },
  {
   "cell_type": "code",
   "execution_count": null,
   "id": "ac75e04c",
   "metadata": {},
   "outputs": [],
   "source": [
    "plt.figure(figsize=(8,5))\n",
    "sns.countplot(data=df, x='Day', order=['Monday','Tuesday','Wednesday','Thursday','Friday','Saturday','Sunday'])\n",
    "plt.title('Transactions by Day of the Week')\n",
    "plt.show()"
   ]
  },
  {
   "cell_type": "code",
   "execution_count": null,
   "id": "c5d299d6",
   "metadata": {},
   "outputs": [],
   "source": [
    "plt.figure(figsize=(10,6))\n",
    "sns.heatmap(df.corr(numeric_only=True), annot=True, cmap='YlGnBu', linewidths=0.5)\n",
    "plt.title('Correlation Matrix of Numerical Features')\n",
    "plt.show()"
   ]
  },
  {
   "cell_type": "code",
   "execution_count": null,
   "id": "6a93d191",
   "metadata": {},
   "outputs": [],
   "source": [
    "daily_sales = df.groupby('Date').agg({'Total':'sum', 'gross income':'sum'}).reset_index()\n",
    "\n",
    "plt.figure(figsize=(12,6))\n",
    "plt.plot(daily_sales['Date'], daily_sales['Total'], label='Total Sales', color='blue')\n",
    "plt.plot(daily_sales['Date'], daily_sales['gross income'], label='Gross Income', color='green')\n",
    "plt.xlabel('Date')\n",
    "plt.ylabel('Amount')\n",
    "plt.title('Daily Sales & Gross Income Trend')\n",
    "plt.legend()\n",
    "plt.xticks(rotation=45)\n",
    "plt.tight_layout()\n",
    "plt.show()"
   ]
  },
  {
   "cell_type": "code",
   "execution_count": null,
   "id": "2eae1942",
   "metadata": {},
   "outputs": [],
   "source": [
    "top_products = df.groupby('Product line')['Total'].sum().sort_values(ascending=False)\n",
    "\n",
    "plt.figure(figsize=(10,5))\n",
    "sns.barplot(x=top_products.index, y=top_products.values, palette='viridis')\n",
    "plt.title('Total Sales by Product Line')\n",
    "plt.ylabel('Total Sales')\n",
    "plt.xticks(rotation=45)\n",
    "plt.show()"
   ]
  },
  {
   "cell_type": "code",
   "execution_count": null,
   "id": "a1d0e6a7",
   "metadata": {},
   "outputs": [],
   "source": [
    "branch_income = df.groupby('Branch')['gross income'].sum().sort_values(ascending=False)\n",
    "\n",
    "plt.figure(figsize=(8,5))\n",
    "sns.barplot(x=branch_income.index, y=branch_income.values, palette='magma')\n",
    "plt.title('Total Gross Income by Branch')\n",
    "plt.ylabel('Gross Income')\n",
    "plt.show()"
   ]
  },
  {
   "cell_type": "code",
   "execution_count": null,
   "id": "5ea86963",
   "metadata": {},
   "outputs": [],
   "source": [
    "plt.figure(figsize=(8,5))\n",
    "sns.boxplot(data=df, x='Payment', y='Rating', palette='Set3')\n",
    "plt.title('Customer Ratings by Payment Method')\n",
    "plt.show()"
   ]
  }
 ],
 "metadata": {},
 "nbformat": 4,
 "nbformat_minor": 5
}
