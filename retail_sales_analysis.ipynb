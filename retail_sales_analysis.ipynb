{
 "cells": [
  {
   "cell_type": "markdown",
   "id": "51b91ae8",
   "metadata": {},
   "source": [
    "# 🛍️ Retail Sales Analysis\n",
    "\n",
    "This project explores a real-world sales dataset from a retail store, using Python for data analysis and visualization. The goal is to uncover insights about customer behavior, product performance and transaction trends.\n",
    "\n",
    "## 📦 Dataset Features\n",
    "- Invoice ID, Branch, City, Customer Type, Gender\n",
    "- Product line, Unit Price, Quantity, Tax, Total\n",
    "- Date, Time, Payment Method\n",
    "- Cost of Goods Sold (COGS), Gross Margin, Gross Income\n",
    "- Rating\n"
   ]
  },
  {
   "cell_type": "code",
   "execution_count": null,
   "id": "a6953be9",
   "metadata": {},
   "outputs": [],
   "source": [
    "import pandas as pd\n",
    "import matplotlib.pyplot as plt\n",
    "import seaborn as sns\n",
    "\n",
    "sns.set(style=\"whitegrid\")\n"
   ]
  },
  {
   "cell_type": "code",
   "execution_count": null,
   "id": "cf4cf5e9",
   "metadata": {},
   "outputs": [],
   "source": [
    "df = pd.read_csv(\"Dataset.csv\")\n",
    "df.head()\n"
   ]
  },
  {
   "cell_type": "code",
   "execution_count": null,
   "id": "a5c07f8e",
   "metadata": {},
   "outputs": [],
   "source": [
    "df.info()\n",
    "df.describe()\n"
   ]
  },
  {
   "cell_type": "code",
   "execution_count": null,
   "id": "a37f68c8",
   "metadata": {},
   "outputs": [],
   "source": [
    "df.columns = df.columns.str.strip().str.lower()\n"
   ]
  },
  {
   "cell_type": "code",
   "execution_count": null,
   "id": "2df23b9a",
   "metadata": {},
   "outputs": [],
   "source": [
    "df.isnull().sum()\n"
   ]
  },
  {
   "cell_type": "code",
   "execution_count": null,
   "id": "dca7bb29",
   "metadata": {},
   "outputs": [],
   "source": [
    "df['date'] = pd.to_datetime(df['date'], errors='coerce')\n",
    "df['month'] = df['date'].dt.month_name()\n",
    "df['day'] = df['date'].dt.day_name()\n"
   ]
  },
  {
   "cell_type": "code",
   "execution_count": null,
   "id": "50ee6b86",
   "metadata": {},
   "outputs": [],
   "source": [
    "top_products = df.groupby('product')['quantity'].sum().sort_values(ascending=False).head(10)\n",
    "\n",
    "plt.figure(figsize=(10,5))\n",
    "sns.barplot(x=top_products.values, y=top_products.index, palette='viridis')\n",
    "plt.title('Top 10 Products by Quantity Sold')\n",
    "plt.xlabel('Total Quantity Sold')\n",
    "plt.ylabel('Product')\n",
    "plt.tight_layout()\n",
    "plt.show()\n"
   ]
  },
  {
   "cell_type": "code",
   "execution_count": null,
   "id": "a2a04567",
   "metadata": {},
   "outputs": [],
   "source": [
    "daily_sales = df.groupby('date')['total'].sum().reset_index()\n",
    "\n",
    "plt.figure(figsize=(12,6))\n",
    "sns.lineplot(data=daily_sales, x='date', y='total', marker='o')\n",
    "plt.title('Daily Total Sales Over Time')\n",
    "plt.xlabel('Date')\n",
    "plt.ylabel('Total Sales ($)')\n",
    "plt.tight_layout()\n",
    "plt.show()\n"
   ]
  },
  {
   "cell_type": "code",
   "execution_count": null,
   "id": "c6bd4045",
   "metadata": {},
   "outputs": [],
   "source": [
    "sns.countplot(data=df, x='Payment', palette='Set1')\n",
    "plt.title('Payment Method Distribution')\n",
    "plt.show()monthly_sales = df.groupby('month')['total'].sum().reindex([\n",
    "    'January', 'February', 'March', 'April', 'May', 'June', 'July',\n",
    "    'August', 'September', 'October', 'November', 'December'\n",
    "])\n",
    "\n",
    "plt.figure(figsize=(10,5))\n",
    "sns.barplot(x=monthly_sales.index, y=monthly_sales.values, palette='coolwarm')\n",
    "plt.title('Monthly Sales Distribution')\n",
    "plt.ylabel('Total Sales ($)')\n",
    "plt.xticks(rotation=45)\n",
    "plt.tight_layout()\n",
    "plt.show()\n"
   ]
  },
  {
   "cell_type": "code",
   "execution_count": null,
   "id": "9d2408d0",
   "metadata": {},
   "outputs": [],
   "source": [
    "customer_counts = df['customerid'].value_counts().head(10)\n",
    "\n",
    "plt.figure(figsize=(8,5))\n",
    "sns.barplot(x=customer_counts.values, y=customer_counts.index, palette='Set3')\n",
    "plt.title('Top 10 Customers by Number of Orders')\n",
    "plt.xlabel('Number of Orders')\n",
    "plt.ylabel('Customer ID')\n",
    "plt.tight_layout()\n",
    "plt.show()\n"
   ]
  },
  {
   "cell_type": "code",
   "execution_count": null,
   "id": "873c2cd3",
   "metadata": {},
   "outputs": [],
   "source": [
    "## 📈 Key Findings\n",
    "\n",
    "- The dataset showed seasonal and daily patterns in sales.\n",
    "- Certain products dominated in sales volume.\n",
    "- Some customers contributed heavily to total revenue.\n",
    "- Monthly trends can help plan stock and promotions.\n",
    "\n",
    "This kind of analysis can help businesses tailor their inventory, marketing, and customer engagement strategies effectively.\n"
   ]
  }
 ],
 "metadata": {
  "language_info": {
   "name": "python"
  }
 },
 "nbformat": 4,
 "nbformat_minor": 5
}
